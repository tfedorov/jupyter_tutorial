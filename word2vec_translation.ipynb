{
 "cells": [
  {
   "cell_type": "code",
   "execution_count": 1,
   "metadata": {
    "collapsed": false
   },
   "outputs": [
    {
     "name": "stderr",
     "output_type": "stream",
     "text": [
      "Using TensorFlow backend.\n"
     ]
    }
   ],
   "source": [
    "import numpy as np\n",
    "from gensim.models import word2vec\n",
    "import tokenize_uk"
   ]
  },
  {
   "cell_type": "code",
   "execution_count": 101,
   "metadata": {
    "collapsed": true
   },
   "outputs": [],
   "source": [
    "ukrainian_raw_txt = \"\"\"\n",
    "ПРЕАМБУЛА[ред.]\n",
    "Ми, народ Сполучених Штатів, щоб створити досконаліший союз, установити правосуддя, забезпечити внутрішній спокій, запровадити спільну оборону, сприяти загальному добробуту та убезпечити нам самим і нашим нащадкам блага свободи - видаємо і встановлюємо цю Конституцію для Сполучених Штатів Америки.\n",
    "\n",
    "Стаття І.[ред.]\n",
    "Розділ 1.[ред.]\n",
    "Всі законодавчі права, надані цією конституцією, повинні належати конгресу Сполучених Штатів, який має складатися з Сенату і Палати представників\n",
    "\n",
    "Розділ 2.[ред.]\n",
    "1. Палата представників має складатися з членів, котрих кожні два роки обиратиме людність окремих штатів; виборці в кожному штаті повинні задовольняти вимогам, встановленим для виборців найчисленнішого представництва законодавчих органів штату.\n",
    "\n",
    "2. Представником не може обиратися той, хто не досягнув віку двадцяти п'яти років і не був сім років громадянином Сполучених Штатів, а також той, хто не мешкає у тому штаті, де його обиратимуть.\n",
    "\n",
    "3. Кількість представників і прямі податки мають розподілятися поміж штатами, що увійдуть у цей союз, відповідно до їхньої людності, яка має визначатися додаванням до загальної кількості наявних вільних людей включно з тими, хто відбуває певні терміни служби, за винятком індіанців, які не оподатковуються, трьох п'ятих решти осіб. Фактичний підрахунок має проводитися протягом трьох років після першої сесії Конгресу Сполучених Штатів, а потім кожних наступних десяти років у спосіб, установлений законом. Кількість представників не має перевищувати одного представника на тридцять тисяч мешканців, але кожен штат повинен мати принаймні одного представника. Доки не буде підраховано людність, штат Нью-Гемпшир має право обирати трьох представників, Масачусетс - вісьмох, Род-Айленд і Плантації Провіденс - одного, Конектикут - п'ятьох, Нью-Йорк - шістьох, Нью-Джерсі - чотирьох, Пенсильванія - вісьмох, Делавер - одного, Меріленд - шістьох, Віргінія - десятьох, Північна Кароліна - п'ятьох, Південна Кароліна - п'ятьох, Джорджія - трьох.\n",
    "\n",
    "4. Якщо у представництві якогось штату зайде вакансія, то органи виконавчої влади цього штату мають видати наказ про вибори на заступництво цієї вакантної посади.\n",
    "\n",
    "5. Палата представників обирає свого спікера та інших урядовців, і тільки їй належить право переслідувати вищих державних урядовців у суді за процедурою імпічменту.\n",
    "\n",
    "Розділ 3.[ред.]\n",
    "1. Сенат Сполучених Штатів має складатися з двох сенаторів від кожного штату, обраних законодавчими органами штату на термін у шість років; кожному сенаторові належить один голос.\n",
    "\n",
    "2. Коли сенатори зберуться після перших виборів, вони мають негайно поділитися на три якомога рівні групи. Сенатори першої групи залишаються на своїх місцях протягом двох років, сенатори другої групи - протягом чотирьох років, і сенатори третьої групи - протягом шести років; таким чином, одна третина сенаторів переобиратиметься кожні два роки; якщо у Сенаті зайде вакансія внаслідок смерті котрогось сенатора або з будь-яких інших причин під час перерви у роботі законодавчих органів відповідного штату, то виконавчі органи цього штату можуть призначити когось тимчасово на цю посаду до наступної сесії законодавчих органів, які вже подбають про заступництво такої вакантної посади.\n",
    "\n",
    "3. Сенатором не може обиратися той, хто не досягнув віку тридцяти років і не був дев'ять років громадянином Сполучених Штатів, а також той, хто на час обрання не мешкає у тому штаті, де його обиратимуть.\n",
    "\n",
    "4. Віце-президент Сполучених Штатів має бути головою Сенату, але право голосу він має тільки у тому випадку, коли голоси присутніх поділяються навпіл.\n",
    "\n",
    "5. Сенат обирає решту своїх урядовців, а також свого тимчасового голову на час відсутності Віце-президента, або коли Віце-президент виконує обов'язки Президента Сполучених Штатів.\n",
    "\n",
    "6. Тільки Сенатові належить право імпічменту вищих державних урядовців. Коли Сенат засідає з цією метою, сенатори повинні скласти присягу або відповідне запевнення. Коли розглядається справа Президента Сполучених Штатів, то головувати має голова Верховного Суду. Ніхто не може бути засудженим, якщо за це не подадуть голоси дві третини присутніх сенаторів.\n",
    "\n",
    "7. У випадках імпічменту вищих державних урядовців присуд не може перевищувати такого покарання, як усунення з посади і позбавлення права обіймати будь-яку почесну, громадську чи платну посаду в Сполучених Штатах, але піддану імпічменту особу не звільняють від обвинувачення, судового розгляду, присуду і кари згідно з законом.\n",
    "\n",
    "Розділ 4.[ред.]\n",
    "1. Час, місце і спосіб виборів сенаторів і представників у кожному штаті визначаються його законодавчими органами, але Конгрес може спеціальним законом повсякчас видавати або змінювати такі приписи, окрім тих, що стосуються місця виборів сенаторів. 2. Сесії Конгресу мають відбуватися принаймні раз на рік; такі сесії мають відбуватися у перший понеділок грудня, якщо Конгрес спеціальним законом не призначить для цього іншої дати.\n",
    "\n",
    "Розділ 5.[ред.]\n",
    "1. Кожна палата має самостійно розв'язувати питання щодо виборів, призначень і вимог до своїх членів; більшість у кожній палаті творить кворум для ведення справ, але і менша кількість має право переносити засідання на інший день і домагатися, щоб відсутні члени відвідували засідання у такий спосіб і під загрозою таких покарань, які визначить кожна палата. 2. Кожна палата самостійно встановлює правила своїх засідань і має право карати своїх членів за порушення встановлених правил, а також ухвалою більшості в дві третини голосів - виключати члена.\n",
    "\n",
    "3. Кожна палата має вести журнал своїх засідань і періодично оприлюднювати його, за винятком тих частин, які, на думку цієї палати, повинні залишатися таємними. Голос кожного члена палати \"за\" чи \"проти\" з будь-якого питання повинен записуватися до журналу на вимогу однієї п'ятої присутніх членів.\n",
    "\n",
    "4. Під час сесії Конгресу жодна палата без згоди іншої палати не має права відкладати свої засідання довше, ніж на три доби, чи переносити місце своїх засідань звідти, де відбуваються засідання обох палат.\n",
    "\n",
    "Розділ 6.[ред.]\n",
    "1. Сенатори і представники за свою службу мають одержувати винагороду, встановлену законом і сплачувану скарбницею Сполучених Штатів. В усіх випадках, окрім державної зради, скоєння тяжкого кримінального злочину і порушення громадського спокою, сенатори і представники мають право недоторканості особи під час перебування на сесіях, а також по дорозі туди і назад; за все сказане ними у промовах чи в дебатах у своїх палатах, ніхто не має права допитувати їх деінде. 2. Жоден сенатор чи представник протягом часу, на який його обрано, не має права обіймати в державному апараті Сполучених Штатів будь-якої іншої посади, що буде створено або винагороду за яку буде збільшено протягом цього часу; той, хто обіймає будь-яку посаду в державному апараті Сполучених Штатів, не може бути членом жодної палати, доки він обіймає цю посаду.\n",
    "\n",
    "Розділ 7.[ред.]\n",
    "1. Всі законопроекти щодо податків має подавати Палата представників; проте Сенат може пропонувати зміни в податкових законопроектах, як і в інших, або погоджуватися на них у тому вигляді, в якому їх подала Палата представників.\n",
    "\n",
    "2. Кожен законопроект, ухвалений Палатою представників і Сенатом, доки стане законом, має бути переданий Президентові Сполучених Штатів; коли Президент схвалює такий закон, він має його підписати, а коли ні, він має повернути його разом із своїми запереченнями до тієї палати, яка подала цей законопроект; ця палата повинна записати до свого журналу заперечення Президента і знов переглянути законопроект. Якщо цей законопроект буде ухвалено і вдруге двома третинами голосів цієї палати, то його разом із запереченнями Президента мають надіслати до другої палати; коли його буде ухвалено двома третинами голосів другої палати, то він набирає чинності закону. Але в усіх таких випадках голоси в обох палатах мають подаватися заявою \"так\" чи \"ні\", і прізвища осіб, які голосують за чи проти законопроекту, повинні належно записуватися до журналів обох палат.\n",
    "\n",
    "Якщо Президент не поверне законопроекту протягом десяти днів (за винятком неділь), відколи йому той вручено, то такий законопроект набирає чинності так само, якби він був підписаний Президентом, окрім тих випадків, коли законопроект не можна повернути через закриття сесії Конгресу; в цих випадках він не стає законом.\n",
    "\n",
    "3. Розпорядження, резолюції та ухвали, що потребують згоди Сенату і Палати представників (за винятком питання про закриття сесії), мають подаватися Президентові Сполучених Штатів і мають бути схвалені ним перед набранням цими актами чинності; коли Президент не схвалить котрийсь з них, то він має бути повторно прийнятий двома третинами голосів Сенату і Палати представників відповідно до правил та обмежень, установлених для ухвалення законопроектів.\n",
    "\n",
    "Розділ 8.[ред.]\n",
    "Конгресові належить право: 1. Встановлювати і стягувати податки, мита, збори та акцизні збори; сплачувати борги і дбати про спільну оборону і добробут Сполучених Штатів; проте всі мита, збори та акцизні збори мають бути однаковими на всій території Сполучених Штатів.\n",
    "\n",
    "2. Брати позики ім'ям Сполучених Штатів.\n",
    "\n",
    "3. Регулювати торгівлю з іншими державами, між окремими штатами, а також з індіанськими племенами.\n",
    "\n",
    "4. Встановлювати єдині правила натуралізації та єдині закони про банкрутство на всій території Сполучених Штатів.\n",
    "\n",
    "5. Карбувати монету, регулювати її вартість і вартість чужоземної валюти, а також встановлювати стандарти ваги і мір.\n",
    "\n",
    "6. Установлювати покарання за фальшування державних цінних паперів і грошей, які наразі перебувають в обігу в Сполучених Штатах.\n",
    "\n",
    "7. Створювати поштові відомства і встановлювати поштові сполучення.\n",
    "\n",
    "8. Сприяти розвитку науки і корисних мистецтв, забезпечуючи на певний час авторам і винахідникам виняткове право на їхні твори і винаходи.\n",
    "\n",
    "9. Створювати суди, підпорядковані Верховному Суду.\n",
    "\n",
    "10. Визначати покарання і карати за піратство і злочини, скоєні у відкритому морі, а також за порушення норм міжнародного права.\n",
    "\n",
    "11. Оголошувати війну, видавати каперські свідоцтва і встановлювати правила щодо військової здобичі на суходолі і на морі.\n",
    "\n",
    "12. Набирати та утримувати військо; проте призначення коштів на це не повинно провадитися на строк понад два роки.\n",
    "\n",
    "13. Споряджати та утримувати флот.\n",
    "\n",
    "14. Встановлювати правила командування наземним і морським військом.\n",
    "\n",
    "15. Дбати про скликання народної міліції, яка має забезпечувати виконання законів Союзу, поборювати повстання і відбивати напади.\n",
    "\n",
    "16. Дбати про створення, озброєння і вишкіл народної міліції, а також керувати тими її частинами, що можуть використовуватися на службі Сполученим Штатам, зберігаючи за відповідними штатами право призначати офіцерів і керівників для вишколу міліції згідно з правилами дисципліни, що їх встановлено Конгресом.\n",
    "\n",
    "17. Неподільно виконувати законодавство в усіх випадках в окрузі (площею не більше за десять квадратних миль), що відступлять окремі штати і прийме Конгрес як осідок уряду Сполучених Штатів, і мати таку саме владу в усіх місцях, викуплених за згодою законодавчої влади штату, у якому їх розташовано, для створення фортець, складів, арсеналів, доків та інших потрібних споруд.\n",
    "\n",
    "18. Видавати усі закони, потрібні і належні для здійснення згаданих вище повноважень і решти повноважень, наданих цією Конституцією урядові Сполучених Штатів чи будь-якому з його міністерств чи урядовців.\n",
    "\n",
    "Розділ 9.[ред.]\n",
    "1. Конгрес не повинен забороняти аж до 1808 року переселення і привезення осіб, яких кожен із наявних штатів уважатиме за належне допустити, але на такий довіз може накладатися податок чи збір, не вищий за десять доларів на особу. 2. Нікого не можна позбавляти привілею, що надається законом Habeas corpus, крім тих випадків, коли цього вимагає громадська безпека під час повстання або нападу.\n",
    "\n",
    "3. Не можна ухвалювати законопроектів про покарання без суду і видавати законів із зворотною чинністю.\n",
    "\n",
    "4. Подушний чи інший податок має накладатися лише пропорційно до даних перепису чи підрахунку людності, який проведено у зазначений вище спосіб.\n",
    "\n",
    "5. Жодного податку чи мита не можна накладати на речі, що вивозяться з якогось штату.\n",
    "\n",
    "6. Не можна надавати жодної переваги комерційними чи фіскальними приписами портам одного штату перед портами іншого штату; так само жодне судно, що прямує до будь-якого штату або з цього штату не повинне перевірятися чи сплачувати мито в іншому штаті.\n",
    "\n",
    "7. Виплата грошей зі скарбниці має відбуватися лише на підставі законних асигнувань, а звіт про надходження і витрачання усіх державних коштів має періодично оприлюднюватися.\n",
    "\n",
    "8. Сполучені Штати не надаватимуть жодних аристократичних титулів, і жодна особа, яка обіймає платну чи громадську посаду в державному апараті Сполучених Штатів, не має права без дозволу Конгресу приймати жодного дарунку, винагороди або титулу від будь-якого короля, правителя або чужоземної держави.\n",
    "\n",
    "Розділ 10.[ред.]\n",
    "1. Жоден штат не має права вступати у будь-яку угоду, союз чи конфедерацію, видавати каперські свідоцтва, карбувати монету, випускати кредитні папери, дозволяти сплачувати борги будь-чим, окрім срібних і золотих монет, ухвалювати законопроекти про покарання без суду, видавати закони із зворотною чинністю або закони, що порушують зобов'язання за контрактами, або ж надавати будь-які аристократичні титули. 2. Жоден штат не має права без дозволу Конгресу накладати збори чи мита на довіз і вивіз, за винятком тих, що конче потрібні для виконання його інспекційних законів; зиск з усіх мит і зборів, накладених будь-яким штатом на довіз і вивіз, має передаватися скарбниці Сполучених Штатів, і всі відповідні закони підлягають перегляду і контролю Конгресом.\n",
    "\n",
    "3. Жоден штат не має права без згоди Конгресу накладати мита на тоннаж, утримувати військо чи військові судна у мирні часи, вступати у будь-які угоди чи договори з іншим штатом або з чужоземними державами, вступати у війну, крім тих випадків, коли на нього вчинено напад, або випадків такої очевидної загрози, що не терпить зволікання.\n",
    "\"\"\".lower()"
   ]
  },
  {
   "cell_type": "code",
   "execution_count": 85,
   "metadata": {
    "collapsed": false
   },
   "outputs": [],
   "source": [
    "def prepare_text(raw):\n",
    "    tokenized = tokenize_uk.tokenize_text(raw_txt)\n",
    "    result = []\n",
    "    for outer_list in tokenized:\n",
    "        for inner_list in outer_list:\n",
    "            result.append(inner_list)\n",
    "    return result"
   ]
  },
  {
   "cell_type": "code",
   "execution_count": 92,
   "metadata": {
    "collapsed": false
   },
   "outputs": [],
   "source": [
    "prepared_ukrainian = prepare_text(ukrainian_raw_txt)"
   ]
  },
  {
   "cell_type": "code",
   "execution_count": 125,
   "metadata": {
    "collapsed": false
   },
   "outputs": [],
   "source": [
    "model_ukrainian = word2vec.Word2Vec(prepared_ukrainian, size=3,min_count =2)"
   ]
  },
  {
   "cell_type": "code",
   "execution_count": 95,
   "metadata": {
    "collapsed": false
   },
   "outputs": [],
   "source": [
    "#model_ukrainian.wv.vocab"
   ]
  },
  {
   "cell_type": "code",
   "execution_count": 126,
   "metadata": {
    "collapsed": false
   },
   "outputs": [
    {
     "data": {
      "text/plain": [
       "[('чинності', 0.9974364042282104),\n",
       " ('віце', 0.9910467267036438),\n",
       " ('особу', 0.9898396730422974)]"
      ]
     },
     "execution_count": 126,
     "metadata": {},
     "output_type": "execute_result"
    }
   ],
   "source": [
    "model_ukrainian.wv.similar_by_vector(np.array([-1.5, 0.5489496, 0.3]), topn=3)"
   ]
  },
  {
   "cell_type": "code",
   "execution_count": 127,
   "metadata": {
    "collapsed": false
   },
   "outputs": [
    {
     "data": {
      "text/plain": [
       "[('платну', 0.9995582103729248),\n",
       " ('членів', 0.995299220085144),\n",
       " ('сенатори', 0.992719292640686)]"
      ]
     },
     "execution_count": 127,
     "metadata": {},
     "output_type": "execute_result"
    }
   ],
   "source": [
    "model_ukrainian.wv.similar_by_word(\"грошей\", topn=3)"
   ]
  },
  {
   "cell_type": "code",
   "execution_count": 104,
   "metadata": {
    "collapsed": true
   },
   "outputs": [],
   "source": [
    "english_raw = \"\"\"\n",
    "(Preamble) \n",
    "We the People of the United States, in Order to form a more perfect Union, establish Justice, insure domestic Tranquility, provide for the common defence, promote the general Welfare, and secure the Blessings of Liberty to ourselves and our Posterity, do ordain and establish this Constitution for the United States of America.\n",
    "\n",
    "Article I (Article 1 - Legislative)\n",
    "Section 1\n",
    "All legislative Powers herein granted shall be vested in a Congress of the United States, which shall consist of a Senate and House of Representatives.\n",
    "\n",
    "Section 2\n",
    "1: The House of Representatives shall be composed of Members chosen every second Year by the People of the several States, and the Electors in each State shall have the Qualifications requisite for Electors of the most numerous Branch of the State Legislature.\n",
    "\n",
    "2: No Person shall be a Representative who shall not have attained to the Age of twenty five Years, and been seven Years a Citizen of the United States, and who shall not, when elected, be an Inhabitant of that State in which he shall be chosen.\n",
    "\n",
    "3: Representatives and direct Taxes shall be apportioned among the several States which may be included within this Union, according to their respective Numbers, which shall be determined by adding to the whole Number of free Persons, including those bound to Service for a Term of Years, and excluding Indians not taxed, three fifths of all other Persons.2  The actual Enumeration shall be made within three Years after the first Meeting of the Congress of the United States, and within every subsequent Term of ten Years, in such Manner as they shall by Law direct. The Number of Representatives shall not exceed one for every thirty Thousand, but each State shall have at Least one Representative; and until such enumeration shall be made, the State of New Hampshire shall be entitled to chuse three, Massachusetts eight, Rhode-Island and Providence Plantations one, Connecticut five, New-York six, New Jersey four, Pennsylvania eight, Delaware one, Maryland six, Virginia ten, North Carolina five, South Carolina five, and Georgia three.\n",
    "\n",
    "4: When vacancies happen in the Representation from any State, the Executive Authority thereof shall issue Writs of Election to fill such Vacancies.\n",
    "\n",
    "5: The House of Representatives shall chuse their Speaker and other Officers; and shall have the sole Power of Impeachment.\n",
    "\n",
    "Section 3\n",
    "1: The Senate of the United States shall be composed of two Senators from each State, chosen by the Legislature thereof,3 for six Years; and each Senator shall have one Vote.\n",
    "\n",
    "2: Immediately after they shall be assembled in Consequence of the first Election, they shall be divided as equally as may be into three Classes. The Seats of the Senators of the first Class shall be vacated at the Expiration of the second Year, of the second Class at the Expiration of the fourth Year, and of the third Class at the Expiration of the sixth Year, so that one third may be chosen every second Year; and if Vacancies happen by Resignation, or otherwise, during the Recess of the Legislature of any State, the Executive thereof may make temporary Appointments until the next Meeting of the Legislature, which shall then fill such Vacancies.4\n",
    "\n",
    "3: No Person shall be a Senator who shall not have attained to the Age of thirty Years, and been nine Years a Citizen of the United States, and who shall not, when elected, be an Inhabitant of that State for which he shall be chosen.\n",
    "\n",
    "4: The Vice President of the United States shall be President of the Senate, but shall have no Vote, unless they be equally divided.\n",
    "\n",
    "5: The Senate shall chuse their other Officers, and also a President pro tempore, in the Absence of the Vice President, or when he shall exercise the Office of President of the United States.\n",
    "\n",
    "6: The Senate shall have the sole Power to try all Impeachments. When sitting for that Purpose, they shall be on Oath or Affirmation. When the President of the United States is tried, the Chief Justice shall preside: And no Person shall be convicted without the Concurrence of two thirds of the Members present.\n",
    "\n",
    "7: Judgment in Cases of impeachment shall not extend further than to removal from Office, and disqualification to hold and enjoy any Office of honor, Trust or Profit under the United States: but the Party convicted shall nevertheless be liable and subject to Indictment, Trial, Judgment and Punishment, according to Law.\n",
    "\n",
    "Section 4\n",
    "1: The Times, Places and Manner of holding Elections for Senators and Representatives, shall be prescribed in each State by the Legislature thereof; but the Congress may at any time by Law make or alter such Regulations, except as to the Places of chusing Senators.\n",
    "\n",
    "2: The Congress shall assemble at least once in every Year, and such Meeting shall be on the first Monday in December,5 unless they shall by Law appoint a different Day.\n",
    "\n",
    "Section 5\n",
    "1: Each House shall be the Judge of the Elections, Returns and Qualifications of its own Members, and a Majority of each shall constitute a Quorum to do Business; but a smaller Number may adjourn from day to day, and may be authorized to compel the Attendance of absent Members, in such Manner, and under such Penalties as each House may provide.\n",
    "\n",
    "2: Each House may determine the Rules of its Proceedings, punish its Members for disorderly Behaviour, and, with the Concurrence of two thirds, expel a Member.\n",
    "\n",
    "3: Each House shall keep a Journal of its Proceedings, and from time to time publish the same, excepting such Parts as may in their Judgment require Secrecy; and the Yeas and Nays of the Members of either House on any question shall, at the Desire of one fifth of those Present, be entered on the Journal.\n",
    "\n",
    "4: Neither House, during the Session of Congress, shall, without the Consent of the other, adjourn for more than three days, nor to any other Place than that in which the two Houses shall be sitting.\n",
    "\n",
    "Section 6\n",
    "1: The Senators and Representatives shall receive a Compensation for their Services, to be ascertained by Law, and paid out of the Treasury of the United States.6 They shall in all Cases, except Treason, Felony and Breach of the Peace, be privileged from Arrest during their Attendance at the Session of their respective Houses, and in going to and returning from the same; and for any Speech or Debate in either House, they shall not be questioned in any other Place.\n",
    "\n",
    "2: No Senator or Representative shall, during the Time for which he was elected, be appointed to any civil Office under the Authority of the United States, which shall have been created, or the Emoluments whereof shall have been encreased during such time; and no Person holding any Office under the United States, shall be a Member of either House during his Continuance in Office.\n",
    "\n",
    "Section 7\n",
    "1: All Bills for raising Revenue shall originate in the House of Representatives; but the Senate may propose or concur with Amendments as on other Bills.\n",
    "\n",
    "2: Every Bill which shall have passed the House of Representatives and the Senate, shall, before it become a Law, be presented to the President of the United States; If he approve he shall sign it, but if not he shall return it, with his Objections to that House in which it shall have originated, who shall enter the Objections at large on their Journal, and proceed to reconsider it. If after such Reconsideration two thirds of that House shall agree to pass the Bill, it shall be sent, together with the Objections, to the other House, by which it shall likewise be reconsidered, and if approved by two thirds of that House, it shall become a Law. But in all such Cases the Votes of both Houses shall be determined by yeas and Nays, and the Names of the Persons voting for and against the Bill shall be entered on the Journal of each House respectively. If any Bill shall not be returned by the President within ten Days (Sundays excepted) after it shall have been presented to him, the Same shall be a Law, in like Manner as if he had signed it, unless the Congress by their Adjournment prevent its Return, in which Case it shall not be a Law.\n",
    "\n",
    "3: Every Order, Resolution, or Vote to which the Concurrence of the Senate and House of Representatives may be necessary (except on a question of Adjournment) shall be presented to the President of the United States; and before the Same shall take Effect, shall be approved by him, or being disapproved by him, shall be repassed by two thirds of the Senate and House of Representatives, according to the Rules and Limitations prescribed in the Case of a Bill.\n",
    "\n",
    "Section 8\n",
    "1: The Congress shall have Power To lay and collect Taxes, Duties, Imposts and Excises, to pay the Debts and provide for the common Defence and general Welfare of the United States; but all Duties, Imposts and Excises shall be uniform throughout the United States;\n",
    "\n",
    "2: To borrow Money on the credit of the United States;\n",
    "\n",
    "3: To regulate Commerce with foreign Nations, and among the several States, and with the Indian Tribes;\n",
    "\n",
    "4: To establish an uniform Rule of Naturalization, and uniform Laws on the subject of Bankruptcies throughout the United States;\n",
    "\n",
    "5: To coin Money, regulate the Value thereof, and of foreign Coin, and fix the Standard of Weights and Measures;\n",
    "\n",
    "6: To provide for the Punishment of counterfeiting the Securities and current Coin of the United States;\n",
    "\n",
    "7: To establish Post Offices and post Roads;\n",
    "\n",
    "8: To promote the Progress of Science and useful Arts, by securing for limited Times to Authors and Inventors the exclusive Right to their respective Writings and Discoveries;\n",
    "\n",
    "9: To constitute Tribunals inferior to the supreme Court;\n",
    "\n",
    "10: To define and punish Piracies and Felonies committed on the high Seas, and Offences against the Law of Nations;\n",
    "\n",
    "11: To declare War, grant Letters of Marque and Reprisal, and make Rules concerning Captures on Land and Water;\n",
    "\n",
    "12: To raise and support Armies, but no Appropriation of Money to that Use shall be for a longer Term than two Years;\n",
    "\n",
    "13: To provide and maintain a Navy;\n",
    "\n",
    "14: To make Rules for the Government and Regulation of the land and naval Forces;\n",
    "\n",
    "15: To provide for calling forth the Militia to execute the Laws of the Union, suppress Insurrections and repel Invasions;\n",
    "\n",
    "16: To provide for organizing, arming, and disciplining, the Militia, and for governing such Part of them as may be employed in the Service of the United States, reserving to the States respectively, the Appointment of the Officers, and the Authority of training the Militia according to the discipline prescribed by Congress;\n",
    "\n",
    "17: To exercise exclusive Legislation in all Cases whatsoever, over such District (not exceeding ten Miles square) as may, by Cession of particular States, and the Acceptance of Congress, become the Seat of the Government of the United States, and to exercise like Authority over all Places purchased by the Consent of the Legislature of the State in which the Same shall be, for the Erection of Forts, Magazines, Arsenals, dock-Yards, and other needful Buildings;—And\n",
    "\n",
    "18: To make all Laws which shall be necessary and proper for carrying into Execution the foregoing Powers, and all other Powers vested by this Constitution in the Government of the United States, or in any Department or Officer thereof.\n",
    "\n",
    "Section 9\n",
    "1: The Migration or Importation of such Persons as any of the States now existing shall think proper to admit, shall not be prohibited by the Congress prior to the Year one thousand eight hundred and eight, but a Tax or duty may be imposed on such Importation, not exceeding ten dollars for each Person.\n",
    "\n",
    "2: The Privilege of the Writ of Habeas Corpus shall not be suspended, unless when in Cases of Rebellion or Invasion the public Safety may require it.\n",
    "\n",
    "3: No Bill of Attainder or ex post facto Law shall be passed.\n",
    "\n",
    "4: No Capitation, or other direct, Tax shall be laid, unless in Proportion to the Census or Enumeration herein before directed to be taken.7\n",
    "\n",
    "5: No Tax or Duty shall be laid on Articles exported from any State.\n",
    "\n",
    "6: No Preference shall be given by any Regulation of Commerce or Revenue to the Ports of one State over those of another: nor shall Vessels bound to, or from, one State, be obliged to enter, clear, or pay Duties in another.\n",
    "\n",
    "7: No Money shall be drawn from the Treasury, but in Consequence of Appropriations made by Law; and a regular Statement and Account of the Receipts and Expenditures of all public Money shall be published from time to time.\n",
    "\n",
    "8: No Title of Nobility shall be granted by the United States: And no Person holding any Office of Profit or Trust under them, shall, without the Consent of the Congress, accept of any present, Emolument, Office, or Title, of any kind whatever, from any King, Prince, or foreign State.\n",
    "\n",
    "Section 10\n",
    "1: No State shall enter into any Treaty, Alliance, or Confederation; grant Letters of Marque and Reprisal; coin Money; emit Bills of Credit; make any Thing but gold and silver Coin a Tender in Payment of Debts; pass any Bill of Attainder, ex post facto Law, or Law impairing the Obligation of Contracts, or grant any Title of Nobility.\n",
    "\n",
    "2: No State shall, without the Consent of the Congress, lay any Imposts or Duties on Imports or Exports, except what may be absolutely necessary for executing it's inspection Laws: and the net Produce of all Duties and Imposts, laid by any State on Imports or Exports, shall be for the Use of the Treasury of the United States; and all such Laws shall be subject to the Revision and Controul of the Congress.\n",
    "\n",
    "3: No State shall, without the Consent of Congress, lay any Duty of Tonnage, keep Troops, or Ships of War in time of Peace, enter into any Agreement or Compact with another State, or with a foreign Power, or engage in War, unless actually invaded, or in such imminent Danger as will not admit of delay.\n",
    "\"\"\".lower()"
   ]
  },
  {
   "cell_type": "code",
   "execution_count": 102,
   "metadata": {
    "collapsed": true
   },
   "outputs": [],
   "source": [
    "import nltk"
   ]
  },
  {
   "cell_type": "code",
   "execution_count": 116,
   "metadata": {
    "collapsed": false
   },
   "outputs": [],
   "source": [
    "sentences_eng = [nltk.word_tokenize(t) for t in nltk.sent_tokenize(english_raw)]"
   ]
  },
  {
   "cell_type": "code",
   "execution_count": 128,
   "metadata": {
    "collapsed": true
   },
   "outputs": [],
   "source": [
    "model_eng = word2vec.Word2Vec(sentences_eng, size=3,min_count =2)"
   ]
  },
  {
   "cell_type": "code",
   "execution_count": 129,
   "metadata": {
    "collapsed": false
   },
   "outputs": [
    {
     "data": {
      "text/plain": [
       "[('regulate', 0.9652301073074341),\n",
       " ('marque', 0.9270836114883423),\n",
       " ('punish', 0.9010250568389893)]"
      ]
     },
     "execution_count": 129,
     "metadata": {},
     "output_type": "execute_result"
    }
   ],
   "source": [
    "model_eng.wv.similar_by_vector(np.array([-1.5, 0.5489496, 0.3]), topn=3)"
   ]
  },
  {
   "cell_type": "code",
   "execution_count": 130,
   "metadata": {
    "collapsed": false
   },
   "outputs": [
    {
     "data": {
      "text/plain": [
       "[('foreign', 0.9986974000930786),\n",
       " ('vice', 0.9953976273536682),\n",
       " ('third', 0.9907681941986084)]"
      ]
     },
     "execution_count": 130,
     "metadata": {},
     "output_type": "execute_result"
    }
   ],
   "source": [
    "model_eng.wv.similar_by_word(\"money\", topn=3)"
   ]
  },
  {
   "cell_type": "code",
   "execution_count": null,
   "metadata": {
    "collapsed": true
   },
   "outputs": [],
   "source": []
  }
 ],
 "metadata": {
  "kernelspec": {
   "display_name": "Python 3",
   "language": "python",
   "name": "python3"
  },
  "language_info": {
   "codemirror_mode": {
    "name": "ipython",
    "version": 3
   },
   "file_extension": ".py",
   "mimetype": "text/x-python",
   "name": "python",
   "nbconvert_exporter": "python",
   "pygments_lexer": "ipython3",
   "version": "3.5.2"
  }
 },
 "nbformat": 4,
 "nbformat_minor": 2
}
